{
  "nbformat": 4,
  "nbformat_minor": 0,
  "metadata": {
    "colab": {
      "provenance": []
    },
    "kernelspec": {
      "name": "python3",
      "display_name": "Python 3"
    },
    "language_info": {
      "name": "python"
    }
  },
  "cells": [
    {
      "cell_type": "code",
      "execution_count": null,
      "metadata": {
        "id": "QZctX0s4u2P7"
      },
      "outputs": [],
      "source": [
        "import pandas as pd\n",
        "\n",
        "data = pd.read_csv('maternal_mental_condition_before_labor_law.csv')\n",
        "\n",
        "queried_data = data[data['Maternal Mental Condition'] >= 5]\n",
        "\n",
        "print(queried_data)\n"
      ]
    }
  ]
}