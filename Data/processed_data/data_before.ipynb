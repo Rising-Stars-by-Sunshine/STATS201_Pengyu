{
  "nbformat": 4,
  "nbformat_minor": 0,
  "metadata": {
    "colab": {
      "provenance": []
    },
    "kernelspec": {
      "name": "python3",
      "display_name": "Python 3"
    },
    "language_info": {
      "name": "python"
    }
  },
  "cells": [
    {
      "cell_type": "code",
      "execution_count": 1,
      "metadata": {
        "colab": {
          "base_uri": "https://localhost:8080/"
        },
        "id": "2CzzLLFrordA",
        "outputId": "dd6a87e0-57dc-442f-c73f-d632b87fc9d5"
      },
      "outputs": [
        {
          "output_type": "stream",
          "name": "stdout",
          "text": [
            "        Time  Maternal Mental Condition\n",
            "0 2022-01-31                   1.205343\n",
            "1 2022-02-28                   3.305265\n",
            "2 2022-03-31                   1.085421\n",
            "3 2022-04-30                   7.956631\n",
            "4 2022-05-31                   9.500361\n"
          ]
        }
      ],
      "source": [
        "import pandas as pd\n",
        "import numpy as np\n",
        "\n",
        "time_range_before = pd.date_range(start='2022-01-01', end='2022-05-31', freq='M')\n",
        "\n",
        "mental_condition_before = np.random.uniform(low=0, high=10, size=len(time_range_before))\n",
        "\n",
        "data_before = pd.DataFrame({'Time': time_range_before, 'Maternal Mental Condition': mental_condition_before})\n",
        "\n",
        "data_before.to_csv('maternal_mental_condition_before_labor_law.csv', index=False)\n",
        "\n",
        "print(data_before.head())\n"
      ]
    }
  ]
}