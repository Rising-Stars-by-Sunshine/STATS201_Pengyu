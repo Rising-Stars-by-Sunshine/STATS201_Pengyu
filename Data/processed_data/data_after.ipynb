{
  "nbformat": 4,
  "nbformat_minor": 0,
  "metadata": {
    "colab": {
      "provenance": []
    },
    "kernelspec": {
      "name": "python3",
      "display_name": "Python 3"
    },
    "language_info": {
      "name": "python"
    }
  },
  "cells": [
    {
      "cell_type": "code",
      "execution_count": null,
      "metadata": {
        "id": "6hErJDy9rLDv"
      },
      "outputs": [],
      "source": [
        "import pandas as pd\n",
        "import numpy as np\n",
        "\n",
        "time_range_after = pd.date_range(start='2022-06-01', end='2022-12-31', freq='M')\n",
        "\n",
        "mental_condition_after = np.random.uniform(low=0, high=10, size=len(time_range_after))\n",
        "\n",
        "data_after = pd.DataFrame({'Time': time_range_after, 'Maternal Mental Condition': mental_condition_after})\n",
        "\n",
        "data_after.to_csv('maternal_mental_condition_after_labor_law.csv', index=False)\n",
        "\n",
        "print(data_after.head())\n"
      ]
    }
  ]
}