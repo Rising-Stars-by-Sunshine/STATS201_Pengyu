{
  "nbformat": 4,
  "nbformat_minor": 0,
  "metadata": {
    "colab": {
      "provenance": []
    },
    "kernelspec": {
      "name": "python3",
      "display_name": "Python 3"
    },
    "language_info": {
      "name": "python"
    }
  },
  "cells": [
    {
      "cell_type": "code",
      "execution_count": 5,
      "metadata": {
        "colab": {
          "base_uri": "https://localhost:8080/"
        },
        "id": "TzzEdfacjrcW",
        "outputId": "2214b2ca-18e2-4033-e681-677afc7d9b9b"
      },
      "outputs": [
        {
          "output_type": "stream",
          "name": "stdout",
          "text": [
            "         Time  Maternal Mental Condition Labor Law Protection\n",
            "0  2022-01-31                   5.109609        Not Protected\n",
            "1  2022-02-28                   6.668170        Not Protected\n",
            "2  2022-03-31                   3.338629        Not Protected\n",
            "3  2022-04-30                   3.593701        Not Protected\n",
            "4  2022-05-31                   1.302684        Not Protected\n",
            "5  2022-06-30                  10.838477            Protected\n",
            "6  2022-07-31                   3.916199            Protected\n",
            "7  2022-08-31                  11.435327            Protected\n",
            "8  2022-09-30                   2.756017            Protected\n",
            "9  2022-10-31                  10.702683            Protected\n",
            "10 2022-11-30                  11.568108            Protected\n",
            "11 2022-12-31                   4.824254            Protected\n"
          ]
        }
      ],
      "source": [
        "import pandas as pd\n",
        "import numpy as np\n",
        "\n",
        "time_range = pd.date_range(start='2022-01-01', end='2022-12-31', freq='M')\n",
        "\n",
        "mental_condition = np.random.uniform(low=0, high=10, size=len(time_range))\n",
        "\n",
        "labor_law_date = pd.Timestamp('2022-06-01')\n",
        "\n",
        "data = pd.DataFrame({'Time': time_range, 'Maternal Mental Condition': mental_condition})\n",
        "\n",
        "data['Labor Law Protection'] = np.where(data['Time'] >= labor_law_date, 'Protected', 'Not Protected')\n",
        "\n",
        "data.loc[data['Time'] >= labor_law_date, 'Maternal Mental Condition'] += 2\n",
        "\n",
        "data.to_csv('maternal_mental_condition_data.csv', index=False)\n",
        "\n",
        "print(data)\n",
        "\n"
      ]
    },
    {
      "cell_type": "code",
      "source": [],
      "metadata": {
        "id": "GJ-X70kRjsku"
      },
      "execution_count": null,
      "outputs": []
    }
  ]
}