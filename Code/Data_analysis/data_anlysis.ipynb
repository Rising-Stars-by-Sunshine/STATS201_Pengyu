import pandas as pd
import numpy as np

time_range = pd.date_range(start='2022-01-01', end='2022-12-31', freq='M')

mental_health = np.random.normal(loc=0.5, scale=0.1, size=len(time_range))  # 使用正态分布生成示例数据

data = pd.DataFrame({'Time': time_range, 'Maternal Mental Health': mental_health})

labor_law_date = pd.Timestamp('2022-06-01')

data['Labor Law Protection'] = np.where(data['Time'] >= labor_law_date, 'Protected', 'Not Protected')

data.to_csv('maternal_health_data.csv', index=False)

